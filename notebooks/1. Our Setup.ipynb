{
 "cells": [
  {
   "cell_type": "markdown",
   "metadata": {
    "slideshow": {
     "slide_type": "slide"
    }
   },
   "source": [
    "# Methods and Tools"
   ]
  },
  {
   "cell_type": "markdown",
   "metadata": {
    "slideshow": {
     "slide_type": "slide"
    }
   },
   "source": [
    "## Interactive Lectures\n",
    "\n",
    "**All lectures in the course will be _interactive_**\n",
    "\n",
    "They contain running code, as well as theory!\n",
    "\n",
    "* Presented and discussed in frontal lectures...\n",
    "* ...You can download PDFs\n",
    "* ...But you will also be able to _make changes and experiment_\n",
    "\n",
    "**From a software perspective, the workshorses of this approach are:**\n",
    "\n",
    "* [Jupyter](https://jupyter.org) notebooks for the presentation & interaction\n",
    "* [Docker](https://www.docker.com) containers for the setup and distribution\n",
    "\n",
    "**Both are widely used systems:**\n",
    "\n",
    "* Jupyter is a user favorite when it comes to data science\n",
    "* Docker is a state-of-the-art system for manageing services"
   ]
  },
  {
   "cell_type": "markdown",
   "metadata": {
    "slideshow": {
     "slide_type": "slide"
    }
   },
   "source": [
    "# A Few Words  about Docker"
   ]
  },
  {
   "cell_type": "markdown",
   "metadata": {
    "slideshow": {
     "slide_type": "subslide"
    }
   },
   "source": [
    "## Docker\n",
    "\n",
    "**Docker is a system for running software in _\"containers\"_**\n",
    "\n",
    "<center><img src=\"assets/vertical-logo-monochromatic.png\" width=\"400\"/></center>\n",
    "\n",
    "\n",
    "Think of a container as a _lightweight virtual machine_:\n",
    "\n",
    "* (Essentially) the same level of isolation\n",
    "* ...But smaller disk footprint, faster setup and operation, etc."
   ]
  },
  {
   "cell_type": "markdown",
   "metadata": {
    "slideshow": {
     "slide_type": "subslide"
    }
   },
   "source": [
    "## Docker\n",
    "\n",
    "**Docker is a system for running software in _\"containers\"_**\n",
    "\n",
    "<center><img src=\"assets/vertical-logo-monochromatic.png\" width=\"400\"/></center>\n",
    "\n",
    "Using containers has _many advantages_:\n",
    "\n",
    "* Multiple environments on the same machine\n",
    "* Improved isolation, robustness, and reproducibility\n",
    "* Easier replication (scalability of cloud services)\n",
    "* ..."
   ]
  },
  {
   "cell_type": "markdown",
   "metadata": {
    "slideshow": {
     "slide_type": "subslide"
    }
   },
   "source": [
    "## Docker\n",
    "\n",
    "**During this course we will see many problems**\n",
    "\n",
    "...And tackle them with _many techniques_:\n",
    "\n",
    "* Classical Machine Learning\n",
    "* Deep Learning\n",
    "* Statistics\n",
    "* Signal processing\n",
    "* Declarative optimization\n",
    "* Differential Equations\n",
    "* Agent based simulation\n",
    "* ...\n",
    "\n",
    "Managing dependences would quickly become hellish "
   ]
  },
  {
   "cell_type": "markdown",
   "metadata": {
    "slideshow": {
     "slide_type": "subslide"
    }
   },
   "source": [
    "\n",
    "## Docker\n",
    "\n",
    "**With docker, we can simply use _a different container per case study_**\n",
    "\n",
    "_Inside each container_ we will have:\n",
    "\n",
    "* All the needed libraries & tools\n",
    "* A running instance of a Jupyter server\n",
    "\n",
    "_In the host_ machine (your PC):\n",
    "\n",
    "* We will just open a browser...\n",
    "* ...And connect to the Jupyter server\n",
    "\n",
    "**Two key concepts in Docker**\n",
    "\n",
    "* A _container_ is a (sort of) running, lightweight, Virtual Machine\n",
    "* An _image_ is (sort of) the content of the hard disk of the VM\n",
    "\n",
    "The image can be used to instantiate multiple containers"
   ]
  },
  {
   "cell_type": "markdown",
   "metadata": {
    "slideshow": {
     "slide_type": "subslide"
    }
   },
   "source": [
    "## Building an Image\n",
    "\n",
    "**Images in docker are built by:**\n",
    "\n",
    "* Starting from a base image on [Docker Hub](https://hub.docker.com)\n",
    "* Copying content between the host and the container\n",
    "* Running commands in the container\n",
    "\n",
    "**The process is controlled via a Dockerfile**\n",
    "\n",
    "* Just a text file with a specific syntax\n",
    "* There is an [extensive reference](https://docs.docker.com/engine/reference/builder/), but we only care about a few commands\n",
    "\n",
    "**To build an image, we can use:**\n",
    "\n",
    "```sh\n",
    "docker build .\n",
    "```\n",
    "\n",
    "...From the directory with the Dockerfile\n"
   ]
  },
  {
   "cell_type": "markdown",
   "metadata": {
    "slideshow": {
     "slide_type": "subslide"
    }
   },
   "source": [
    "## An Example Dockerfile\n",
    "\n",
    "**This is a _minimal Dockerfile_ for this lecture:**\n",
    "\n",
    "```dockerfile\n",
    "FROM python:3.8\n",
    "RUN pip install jupyter pandas sklearn matplotlib ipympl RISE\n",
    "COPY . /app\n",
    "WORKDIR /app/notebooks\n",
    "CMD [\"jupyter\", \"notebook\", \"--port=8888\", \"--no-browser\", \"--ip=0.0.0.0\", \"--allow-root\"]\n",
    "```\n",
    "\n",
    "* The `FROM` keyword specifies the base image"
   ]
  },
  {
   "cell_type": "markdown",
   "metadata": {
    "slideshow": {
     "slide_type": "subslide"
    }
   },
   "source": [
    "## An Example Dockerfile\n",
    "\n",
    "**This is a _minimal Dockerfile_ for this lecture:**\n",
    "\n",
    "```dockerfile\n",
    "FROM python:3.8\n",
    "RUN pip install jupyter pandas sklearn matplotlib ipympl RISE\n",
    "COPY . /app\n",
    "WORKDIR /app/notebooks\n",
    "CMD [\"jupyter\", \"notebook\", \"--port=8888\", \"--no-browser\", \"--ip=0.0.0.0\", \"--allow-root\"]\n",
    "```\n",
    "\n",
    "* The `RUN` keyword runs a command\n",
    "* In our case, we install a number of python packages"
   ]
  },
  {
   "cell_type": "markdown",
   "metadata": {
    "slideshow": {
     "slide_type": "subslide"
    }
   },
   "source": [
    "## An Example Dockerfile\n",
    "\n",
    "**This is a _minimal Dockerfile_ for this lecture:**\n",
    "\n",
    "```dockerfile\n",
    "FROM python:3.8\n",
    "RUN pip install jupyter pandas sklearn matplotlib ipympl RISE\n",
    "COPY . /app\n",
    "WORKDIR /app/notebooks\n",
    "CMD [\"jupyter\", \"notebook\", \"--port=8888\", \"--no-browser\", \"--ip=0.0.0.0\", \"--allow-root\"]\n",
    "```\n",
    "\n",
    "* The `COPY` keyword transfers data from the host to the container\n",
    "* The first path refers to the host\n",
    "* The second path to the container"
   ]
  },
  {
   "cell_type": "markdown",
   "metadata": {
    "slideshow": {
     "slide_type": "subslide"
    }
   },
   "source": [
    "## An Example Dockerfile\n",
    "\n",
    "**This is a _minimal Dockerfile_ for this lecture:**\n",
    "\n",
    "```dockerfile\n",
    "FROM python:3.8\n",
    "RUN pip install jupyter pandas sklearn matplotlib ipympl RISE\n",
    "COPY . /app\n",
    "WORKDIR /app/notebooks\n",
    "CMD [\"jupyter\", \"notebook\", \"--port=8888\", \"--no-browser\", \"--ip=0.0.0.0\", \"--allow-root\"]\n",
    "```\n",
    "\n",
    "* The `WORKDIR` changes the current directory in the container\n",
    "* It's like running `cd` in the container"
   ]
  },
  {
   "cell_type": "markdown",
   "metadata": {
    "slideshow": {
     "slide_type": "subslide"
    }
   },
   "source": [
    "## An Example Dockerfile\n",
    "\n",
    "**This is a _minimal Dockerfile_ for this lecture:**\n",
    "\n",
    "```dockerfile\n",
    "FROM python:3.8\n",
    "RUN pip install jupyter pandas sklearn matplotlib ipympl RISE\n",
    "COPY . /app\n",
    "WORKDIR /app/notebooks\n",
    "CMD [\"jupyter\", \"notebook\", \"--port=8888\", \"--no-browser\", \"--ip=0.0.0.0\", \"--allow-root\"]\n",
    "```\n",
    "\n",
    "* The `CMD` keyword is triggered only when we _run_ a container\n",
    "* It's the first command that the container should execute\n",
    "* It does nothing when building an image"
   ]
  },
  {
   "cell_type": "markdown",
   "metadata": {
    "slideshow": {
     "slide_type": "subslide"
    }
   },
   "source": [
    "## An Example Dockerfile\n",
    "\n",
    "**When we run `docker build .` for our file:**\n",
    "\n",
    "* The docker daemon downloads the base image, if not already available\n",
    "* A container is started\n",
    "* All operations in the Dockerfile are executed\n",
    "* The resulting container is dumped, to create an _image_\n",
    "\n",
    "**You can check that a new image has been built using:**\n",
    "\n",
    "```sh\n",
    "docker image ls\n",
    "```\n",
    "\n",
    "You will see an entry with no name:\n",
    "\n",
    "```sh\n",
    "REPOSITORY    TAG         IMAGE ID        CREATED             SIZE\n",
    "<none>        <none>      96b910c1514f    3 seconds ago       1.36GB\n",
    "```"
   ]
  },
  {
   "cell_type": "markdown",
   "metadata": {
    "slideshow": {
     "slide_type": "subslide"
    }
   },
   "source": [
    "## An Example Dockerfile\n",
    "\n",
    "**You can assign a name to an image using:**\n",
    "\n",
    "```sh\n",
    "docker build . -t <name of the image>\n",
    "```\n",
    "\n",
    "**You can remove an image with:**\n",
    "\n",
    "```sh\n",
    "docker image rm <image name or id>\n",
    "```\n",
    "\n",
    "* Useful to free space, however...\n",
    "* ...Images are incremental! Docker stores only the differences\n",
    "* ...So, don't worry too much about space usage\n",
    "\n",
    "**You can remove all images with no running container with:**\n",
    "\n",
    "```sh\n",
    "docker image prune\n",
    "```"
   ]
  },
  {
   "cell_type": "markdown",
   "metadata": {
    "slideshow": {
     "slide_type": "subslide"
    }
   },
   "source": [
    "## Running a Container\n",
    "\n",
    "**You can instantiate and run a container with:**\n",
    "\n",
    "```sh\n",
    "docker run <image name or id>\n",
    "```\n",
    "\n",
    "* The container `stdout` will be piped (i.e. connected) to your terminal\n",
    "* By default, this is not the case for `stdin`\n",
    "* You can make the container interactive with the `-it` options\n",
    "* You can autoremove the container at the end with `--rm`\n",
    "* You can sync folders in the host and on the container using [volumes](https://docs.docker.com/storage/volumes/)\n",
    "\n",
    "The [documentation](https://docs.docker.com/engine/reference/run/) is extensive"
   ]
  },
  {
   "cell_type": "markdown",
   "metadata": {
    "slideshow": {
     "slide_type": "subslide"
    }
   },
   "source": [
    "## Running a Container\n",
    "\n",
    "**You can obtain the list of all containers with:**\n",
    "\n",
    "```sh\n",
    "docker ps\n",
    "```\n",
    "\n",
    "* The option `-a` shows all containers (incl. those that are stopped)\n",
    "\n",
    "**You can remove a container with**\n",
    "\n",
    "```sh\n",
    "docker rm <container id>\n",
    "```\n",
    "\n",
    "* As you see, it's a very flexible system\n",
    "* ...But also a bit complex\n",
    "\n",
    "**That's why we will automate most operations using _Docker Compose_**"
   ]
  },
  {
   "cell_type": "markdown",
   "metadata": {
    "slideshow": {
     "slide_type": "subslide"
    }
   },
   "source": [
    "## Docker Compose\n",
    "\n",
    "**_Docker Compose_ is a tool to help the management of containers**\n",
    "\n",
    "In a second `docker-compose.yml` file, you specify:\n",
    "\n",
    "* Which \"services\" (i.e. container) should be built and run\n",
    "* How to build them\n",
    "* Which options to use when running them\n",
    "* ...\n",
    "\n",
    "All in a [human-readable, declarative format](https://yaml.org)"
   ]
  },
  {
   "cell_type": "markdown",
   "metadata": {
    "slideshow": {
     "slide_type": "subslide"
    }
   },
   "source": [
    "## A Docker Compose Example\n",
    "\n",
    "**Let's see the `docker-compose.yml` for this lecture:**\n",
    "\n",
    "```yaml\n",
    "version: '2.0'\n",
    "services:\n",
    "  jupyter:\n",
    "    build: .\n",
    "    ports:\n",
    "    - \"8888:8888\"\n",
    "    volumes:\n",
    "    - .:/app\n",
    "```\n",
    "\n",
    "* `version` refers to the Docker Compose syntax\n",
    "* `services` is followed by a list of the containers\n",
    "* `jupyter` is our service\n",
    "* `build` specifies where the `Dockerfile` can be found"
   ]
  },
  {
   "cell_type": "markdown",
   "metadata": {
    "slideshow": {
     "slide_type": "subslide"
    }
   },
   "source": [
    "## A Docker Compose Example\n",
    "\n",
    "**Let's see the `docker-compose.yml` for this lecture:**\n",
    "\n",
    "```yaml\n",
    "version: '2.0'\n",
    "services:\n",
    "  jupyter:\n",
    "    build: .\n",
    "    ports:\n",
    "    - \"8888:8888\"\n",
    "    volumes:\n",
    "    - .:/app\n",
    "```\n",
    "\n",
    "* `ports` tells which ports to expose to `docker run`\n",
    "* `volumes` specifies which folders to sync\n",
    "* In our case \"/app/notebooks\" on the container\n",
    "* ...Will actually be \"./notebooks\" on the host\n"
   ]
  },
  {
   "cell_type": "markdown",
   "metadata": {
    "slideshow": {
     "slide_type": "subslide"
    }
   },
   "source": [
    "## Benefits of Using Docker Compose\n",
    "\n",
    "**We need to use one more tool, but now we can:**\n",
    "\n",
    "_Build and run_ a container with:\n",
    "\n",
    "```sh\n",
    "docker-compose up\n",
    "```\n",
    "\n",
    "* The command can also restart a stopped container\n",
    "\n",
    "_Stop_ the container with CTRL+C, or with:\n",
    "\n",
    "```sh\n",
    "docker-compose stop\n",
    "```\n",
    "\n",
    "Stop _and remove_ the container with:\n",
    "\n",
    "```sh\n",
    "docker-compose down\n",
    "```\n",
    "\n",
    "...Which is considerably simpler than before!"
   ]
  },
  {
   "cell_type": "markdown",
   "metadata": {
    "slideshow": {
     "slide_type": "slide"
    }
   },
   "source": [
    "# Our Jupyter Setup"
   ]
  },
  {
   "cell_type": "markdown",
   "metadata": {
    "slideshow": {
     "slide_type": "subslide"
    }
   },
   "source": [
    "## Our Setup\n",
    "\n",
    "**We will often work with this development setup**\n",
    "\n",
    "The folder with the notebooks is structured as follows:\n",
    "\n",
    "```\n",
    "notebook1.pynb\n",
    "notebook2.pynb\n",
    "...\n",
    "util     <-- module\n",
    "assets   <-- images and such\n",
    "rise.css <-- for the \"slide\" mode\n",
    "```"
   ]
  },
  {
   "cell_type": "markdown",
   "metadata": {
    "slideshow": {
     "slide_type": "subslide"
    }
   },
   "source": [
    "## Our Setup\n",
    "\n",
    "**We will often work with this development setup**\n",
    "\n",
    "The folder with the notebooks is structured as follows:\n",
    "\n",
    "\n",
    "```\n",
    "notebook1.pynb\n",
    "notebook2.pynb\n",
    "...\n",
    "util +-- __init__.py\n",
    "     +-- XYZ.py       <-- submodule\n",
    "     +-- YZX.py       <-- submodule\n",
    "     +-- ...\n",
    "font\n",
    "rise.css\n",
    "```\n",
    "\n",
    "**Most important part:** the use of _a module_ besides notebooks"
   ]
  },
  {
   "cell_type": "markdown",
   "metadata": {
    "slideshow": {
     "slide_type": "subslide"
    }
   },
   "source": [
    "## Our Setup\n",
    "\n",
    "**Working with modules provides some advantages:**\n",
    "\n",
    "We do not need to keep all our code in the notebooks. We can:\n",
    "\n",
    "* _Share_ functions _between cells_\n",
    "* _Share_ functions _between notebooks_\n",
    "* IDEs can offer _more functionality_ if they recognize a module\n",
    "\n",
    "**...But also a significant disadvantage:**\n",
    "\n",
    "* Python modules are compiled first when loaded...\n",
    "* ...The loaded version is _not updated_ when the source changes\n",
    "\n",
    "This is very inconvenient at development time"
   ]
  },
  {
   "cell_type": "markdown",
   "metadata": {
    "slideshow": {
     "slide_type": "subslide"
    }
   },
   "source": [
    "## Our Setup\n",
    "\n",
    "**We can circumvent this thanks to Jupyter \"magic\" extensions**\n",
    "\n",
    "The first one is [the \"autoreload\" extension](https://ipython.org/ipython-doc/3/config/extensions/autoreload.html)"
   ]
  },
  {
   "cell_type": "code",
   "execution_count": 1,
   "metadata": {
    "slideshow": {
     "slide_type": "-"
    }
   },
   "outputs": [],
   "source": [
    "%load_ext autoreload\n",
    "%autoreload 2"
   ]
  },
  {
   "cell_type": "markdown",
   "metadata": {},
   "source": [
    "\n",
    "* `load_ext` will enable the extension\n",
    "* `autoreload 2` will reload all modules before code execution\n",
    "\n",
    "**This is _inefficient, but convenient_ during development**\n",
    "\n",
    "* Together with the use of volumes (in docker-compose)...\n",
    "* ...This allows us to update the code without re-building the docker image\n"
   ]
  },
  {
   "cell_type": "markdown",
   "metadata": {
    "slideshow": {
     "slide_type": "subslide"
    }
   },
   "source": [
    "## Starting a Notebook\n",
    "\n",
    "Let's look back to the `CMD` keyword in our `Dockerfile`:\n",
    "\n",
    "```dockerfile\n",
    "CMD [\"jupyter\", \"notebook\", \"--port=8888\", \"--no-browser\", \\\n",
    "     \"--ip=0.0.0.0\", \"--allow-root\"]\n",
    "```\n",
    "\n",
    "This is translated to:\n",
    "\n",
    "```sh\n",
    "jupyter notebook --port=8888 --no-browser --ip=0.0.0.0 --allow-root\n",
    "```\n",
    "\n",
    "* `--port 8888`: the server listen on port 8888\n",
    "* `--no-browser`: do not open the browser (there's no browser in the container)\n",
    "* `--ip=0.0.0.0`: listen on all network interfaces\n",
    "* `--allow-root`: we operate as `root` (admin) on the container"
   ]
  },
  {
   "cell_type": "markdown",
   "metadata": {
    "slideshow": {
     "slide_type": "subslide"
    }
   },
   "source": [
    "## Starting a Notebook\n",
    "\n",
    "When we run:\n",
    "\n",
    "```sh\n",
    "docker-compose up\n",
    "```\n",
    "\n",
    "The output will look like:\n",
    "```sh\n",
    "Starting ad_stat_jupyter_1 ... done\n",
    "...\n",
    "...Use Control-C to stop this server and shut down all kernels...\n",
    "...\n",
    "...To access the notebook...\n",
    "...copy and paste one of these URLs:\n",
    "...    http://34b908cf2362:8888/?token=82e337a2be9915cdebce276bf...\n",
    "... or http://127.0.0.1:8888/?token=82e337a2be9915cdebce276bf...\n",
    "```\n",
    "\n",
    "* The last URL can be _copy-pasted in your favorite browser_"
   ]
  },
  {
   "cell_type": "markdown",
   "metadata": {
    "slideshow": {
     "slide_type": "subslide"
    }
   },
   "source": [
    "## Starting a Notebook\n",
    "\n",
    "When we run:\n",
    "\n",
    "```sh\n",
    "docker-compose up\n",
    "```\n",
    "\n",
    "The output will look like:\n",
    "```sh\n",
    "Starting ad_stat_jupyter_1 ... done\n",
    "...\n",
    "...Use Control-C to stop this server and shut down all kernels...\n",
    "...\n",
    "...To access the notebook...\n",
    "...copy and paste one of these URLs:\n",
    "...    http://34b908cf2362:8888/?token=82e337a2be9915cdebce276bf...\n",
    "... or http://127.0.0.1:8888/?token=82e337a2be9915cdebce276bf...\n",
    "```\n",
    "\n",
    "* The `token` is cached by the browser and grants access to the notebooks"
   ]
  },
  {
   "cell_type": "markdown",
   "metadata": {
    "slideshow": {
     "slide_type": "subslide"
    }
   },
   "source": [
    "## Our Setup\n",
    "\n",
    "* We will also use the `ipympl` package and the `widget` jupyter magic\n",
    "* This will display basic tools to rescale and zoom images"
   ]
  },
  {
   "cell_type": "code",
   "execution_count": 5,
   "metadata": {},
   "outputs": [
    {
     "data": {
      "image/png": "[encoded data removed]",
      "text/plain": [
       "<Figure size 648x216 with 1 Axes>"
      ]
     },
     "metadata": {
      "needs_background": "light"
     },
     "output_type": "display_data"
    }
   ],
   "source": [
    "%matplotlib widget\n",
    "from matplotlib import pyplot as plt\n",
    "import numpy as np\n",
    "x = np.linspace(0, 2*np.pi, 100)\n",
    "plt.figure(figsize=(9, 3))\n",
    "plt.plot(x, np.sin(x))\n",
    "plt.tight_layout()"
   ]
  }
 ],
 "metadata": {
  "celltoolbar": "Slideshow",
  "kernelspec": {
   "display_name": "Python 3 (ipykernel)",
   "language": "python",
   "name": "python3"
  },
  "language_info": {
   "codemirror_mode": {
    "name": "ipython",
    "version": 3
   },
   "file_extension": ".py",
   "mimetype": "text/x-python",
   "name": "python",
   "nbconvert_exporter": "python",
   "pygments_lexer": "ipython3",
   "version": "3.8.10"
  },
  "rise": {
   "center": false,
   "transition": "fade"
  },
  "widgets": {
   "application/vnd.jupyter.widget-state+json": {
    "state": {},
    "version_major": 2,
    "version_minor": 0
   }
  }
 },
 "nbformat": 4,
 "nbformat_minor": 4
}
