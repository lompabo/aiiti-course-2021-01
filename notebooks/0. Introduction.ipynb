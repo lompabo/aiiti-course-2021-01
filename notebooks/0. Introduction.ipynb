{
 "cells": [
  {
   "cell_type": "markdown",
   "metadata": {
    "slideshow": {
     "slide_type": "slide"
    }
   },
   "source": [
    "# Course Introduction"
   ]
  },
  {
   "cell_type": "markdown",
   "metadata": {
    "slideshow": {
     "slide_type": "subslide"
    }
   },
   "source": [
    "## An Oddball\n",
    "\n",
    "**This is a strange course**\n",
    "\n",
    "For most courses, it's easy to figure out what to expect:\n",
    "\n",
    "* \"Fundamentals of Artificial Intelligence and Knowledge Representation\"\n",
    "* \"Introduction to Algorithms and Programming\"\n",
    "* \"Statistical and Mathematical Methods for Artificial Intelligence\"\n",
    "* \"Machine Learning\"\n",
    "* \"Deep Learning\"\n",
    "* \"Combinatorial Decision Making and Optimization\"\n",
    "* ...\n",
    "\n",
    "**...But what for something called \"AI in the Industry\"**"
   ]
  },
  {
   "cell_type": "markdown",
   "metadata": {
    "slideshow": {
     "slide_type": "subslide"
    }
   },
   "source": [
    "## Industry\n",
    "\n",
    "**What do we mean by industry?**\n",
    "\n",
    "<center><img src=\"assets/BN-SA653_BUYAME_GR_20170209110043.jpg\"/></center>"
   ]
  },
  {
   "cell_type": "markdown",
   "metadata": {
    "slideshow": {
     "slide_type": "subslide"
    }
   },
   "source": [
    "## Industry\n",
    "\n",
    "**We will talk about industry in a _broad_ sense:**\n",
    "\n",
    "* Factories of course, but also...\n",
    "* Transportation companies\n",
    "* Power generation\n",
    "* Grid operation\n",
    "* Product design\n",
    "* Smart cities\n",
    "* Policy management\n",
    "* ...\n",
    "\n",
    "Basically any activity that can generate _value_\n",
    "\n",
    "**What can AI do in this context?**"
   ]
  },
  {
   "cell_type": "markdown",
   "metadata": {
    "slideshow": {
     "slide_type": "subslide"
    }
   },
   "source": [
    "## Business Analytics\n",
    "\n",
    "**A good starting point: _business analytics_**\n",
    "\n",
    "<center><img src=\"assets/analytics-ithappens1.png\" width=\"800px\"/></center>"
   ]
  },
  {
   "cell_type": "markdown",
   "metadata": {
    "slideshow": {
     "slide_type": "subslide"
    }
   },
   "source": [
    "## Business Analytics\n",
    "\n",
    "**In terms of how far we push automation:**\n",
    "\n",
    "<center><img src=\"assets/framework_092013.gif\" width=\"800px\"/></center>"
   ]
  },
  {
   "cell_type": "markdown",
   "metadata": {
    "slideshow": {
     "slide_type": "subslide"
    }
   },
   "source": [
    "## Business Analytics\n",
    "\n",
    "**The usual, rough, distinction is:**\n",
    "\n",
    "* _Descriptive Analytics_ are about statistics, data compression, visualization\n",
    "* _Diagnostic Analitics_ are about statistics and Machine Learning\n",
    "* _Predictive Analitics_ are about statistics and Machine Learning (again)\n",
    "* _Prescriptive Analitics_ are about optimization\n",
    "\n",
    "**This is all very useful...**"
   ]
  },
  {
   "cell_type": "markdown",
   "metadata": {
    "slideshow": {
     "slide_type": "subslide"
    }
   },
   "source": [
    "## Business Analytics\n",
    "\n",
    "**...But the truth is messier, by far!**\n",
    "\n",
    "<center><img src=\"assets/mess.jpg\" width=\"800px\"/></center>"
   ]
  },
  {
   "cell_type": "markdown",
   "metadata": {
    "slideshow": {
     "slide_type": "subslide"
    }
   },
   "source": [
    "## Business Analytics\n",
    "\n",
    "**The usual, rough, distinction:**\n",
    "\n",
    "* _Descriptive Analytics_ are about statistics, data compression, visualization\n",
    "* _Diagnostic Analitics_ are about statistics and Machine Learning\n",
    "* _Predictive Analitics_ are about statistics and Machine Learning (again)\n",
    "* _Prescriptive Analitics_ are about optimization\n",
    "\n",
    "**This is all very useful... but the truth messier, by far!**\n",
    "\n",
    "* Problems are not well defined\n",
    "* (Essentially) The same problems can be found at multiple levels\n",
    "* It is often necessary to combine problems/techniques\n",
    "* ...\n",
    "\n",
    "**How do you teach _that_?**"
   ]
  },
  {
   "cell_type": "markdown",
   "metadata": {
    "slideshow": {
     "slide_type": "subslide"
    }
   },
   "source": [
    "## How I am Going to Play It\n",
    "\n",
    "**I am going to follow a few guiding principles**"
   ]
  },
  {
   "cell_type": "markdown",
   "metadata": {
    "slideshow": {
     "slide_type": "fragment"
    }
   },
   "source": [
    "> **_How:_ Examples! I.e. Use Cases**\n",
    "\n",
    "* Every few lectures we will introduce _a new use case_\n",
    "* They will be _simplified_ industrial problems\n",
    "  * Real industrial problems are too complicated\n",
    "  * ...And we would see too few of them\n",
    "* They will nevertheless be _representative_\n",
    "* Some uses cases will be covered in _seminars_ by industrial partners\n",
    "* Occasionally: _(optional) open questions_ to be freely investigated"
   ]
  },
  {
   "cell_type": "markdown",
   "metadata": {
    "slideshow": {
     "slide_type": "subslide"
    }
   },
   "source": [
    "## How I am Going to Play It\n",
    "\n",
    "**I am going to follow a few guiding principles**"
   ]
  },
  {
   "cell_type": "markdown",
   "metadata": {
    "slideshow": {
     "slide_type": "-"
    }
   },
   "source": [
    "> **_What:_ techniques, best practices, formalization**\n",
    "\n",
    "* Every use case will serve to introduce _new techniques_\n",
    "* ...Ways to _apply_ known techniques\n",
    "* ...Ways to _combine_ known techniques\n",
    "* ...Some (light) software engineering\n",
    "* ...And how to _formalize_ problems and ideas\n"
   ]
  },
  {
   "cell_type": "markdown",
   "metadata": {
    "slideshow": {
     "slide_type": "subslide"
    }
   },
   "source": [
    "## How I am Going to Play It\n",
    "\n",
    "**I am going to follow a few guiding principles**"
   ]
  },
  {
   "cell_type": "markdown",
   "metadata": {
    "slideshow": {
     "slide_type": "-"
    }
   },
   "source": [
    "\n",
    "> **_Why:_ \"out there\", I want you to have an edge**\n",
    "\n",
    "* Problems/solutions are often poorly understood\n",
    "  - Formalizing is the first step towards understanding\n",
    "* Different problems call for different tools\n",
    "  - Using (say) ML for everything is just _inefficient_\n",
    "* Many people can apply \"boilerplate\", mainstream AI method\n",
    "  - ...But much fewer are capable of _combining_ them"
   ]
  },
  {
   "cell_type": "markdown",
   "metadata": {
    "slideshow": {
     "slide_type": "subslide"
    }
   },
   "source": [
    "## On the Art of Cooking\n",
    "\n",
    "**At some point, the course will start feeling like a cookbook**\n",
    "\n",
    "<center><img src=\"assets/cucchiaio.jpg\" width=\"450px\"/></center>\n",
    "\n",
    "When you get there, there is _one thing you should remember_"
   ]
  },
  {
   "cell_type": "markdown",
   "metadata": {
    "slideshow": {
     "slide_type": "subslide"
    }
   },
   "source": [
    "## On the Art of Cooking\n",
    "\n",
    "**Most people read cookbooks to follow recipes**\n",
    "\n",
    "<center><img src=\"assets/man-cooking.jpg\" width=\"850px\"/></center>"
   ]
  },
  {
   "cell_type": "markdown",
   "metadata": {
    "slideshow": {
     "slide_type": "subslide"
    }
   },
   "source": [
    "## On the Art of Cooking\n",
    "\n",
    "**...But _true chefs_ read cookbooks to find _ideas_** \n",
    "\n",
    "<center><img src=\"assets/true-chef.JPG\" width=\"400px\"/></center>"
   ]
  },
  {
   "cell_type": "markdown",
   "metadata": {
    "slideshow": {
     "slide_type": "subslide"
    }
   },
   "source": [
    "## Teachers\n",
    "\n",
    "**Teacher:**\n",
    "\n",
    "* Michele Lombardi (<michele.lombardi@unibo.it>)\n",
    "* Office:\n",
    "  - Phone: 051 2093270\n",
    "  - Close to teaching room 5.7 (look for a yellow door)\n",
    "* Reception hours: on appointment (send an email)\n",
    "\n",
    "**Tutor:**\n",
    "\n",
    "* Selection in progress! I'll let you know as soon as the results arrive\n",
    "* Mainly assistance with projects (see later), plus questions\n",
    "* Reception hours: on appointment (send an email)"
   ]
  },
  {
   "cell_type": "markdown",
   "metadata": {
    "slideshow": {
     "slide_type": "subslide"
    }
   },
   "source": [
    "## Course Material\n",
    "\n",
    "**Reference: [course web site on virtuale.unibo.it](https://virtuale.unibo.it/course/view.php?id=30199)**\n",
    "\n",
    "* Docker containers + Jupyter notebooks\n",
    "  - You will need to install Docker\n",
    "  - Use \"Docker Desktop\" on Win/OSX\n",
    "  - Instructions on the course web site\n",
    "* PDF notes (also included in the container)\n",
    "* Recorded lectures (links on the web site)\n",
    "\n",
    "**This is the first edition of the course**\n",
    "\n",
    "* This means that the course will _grow with you_\n",
    "* ...But comes with _some inconveniences_\n",
    "  - Typically: material arriving only one/two days before lectures"
   ]
  },
  {
   "cell_type": "markdown",
   "metadata": {
    "slideshow": {
     "slide_type": "subslide"
    }
   },
   "source": [
    "## Exam\n",
    "\n",
    "**The exam will consist of _project_:**\n",
    "\n",
    "* You can either _propose a topic_\n",
    "* ...Or _pick one from a list_ (presented mid course)\n",
    "* In both case, the topics must be _confirmed by the teacher_ before starting\n",
    "* The students will need to:\n",
    "  - Deliver the project code\n",
    "  - Give a presentation\n",
    "  - Discuss their work\n",
    "* Single students or groups (max three persons)"
   ]
  },
  {
   "cell_type": "markdown",
   "metadata": {
    "slideshow": {
     "slide_type": "subslide"
    }
   },
   "source": [
    "## Exam\n",
    "\n",
    "**The evaluation**\n",
    "\n",
    "* Will _not_ focus on how successful your results\n",
    "* ...But on _how you reached them_\n",
    "* This means I will evaluate\n",
    "  - Why you made the choices you made\n",
    "  - How you have interpreted the results\n",
    "  - What you can infer"
   ]
  },
  {
   "cell_type": "markdown",
   "metadata": {
    "slideshow": {
     "slide_type": "subslide"
    }
   },
   "source": [
    "## Exam\n",
    "\n",
    "**About the _optional 3 credits project_**\n",
    "\n",
    "* Usually, this will be _a follow-up of the exam work_\n",
    "* Same structure for the evaluation\n",
    "  - I.e. code, presentation, and discussion\n",
    "* But there are no grades\n",
    "  - Usually, when you present it means you already passed\n",
    "  - ...I'll stop you earlier if this is not the case ;-)"
   ]
  }
 ],
 "metadata": {
  "celltoolbar": "Slideshow",
  "kernelspec": {
   "display_name": "Python 3 (ipykernel)",
   "language": "python",
   "name": "python3"
  },
  "language_info": {
   "codemirror_mode": {
    "name": "ipython",
    "version": 3
   },
   "file_extension": ".py",
   "mimetype": "text/x-python",
   "name": "python",
   "nbconvert_exporter": "python",
   "pygments_lexer": "ipython3",
   "version": "3.8.10"
  },
  "rise": {
   "center": false,
   "transition": "fade"
  }
 },
 "nbformat": 4,
 "nbformat_minor": 4
}
