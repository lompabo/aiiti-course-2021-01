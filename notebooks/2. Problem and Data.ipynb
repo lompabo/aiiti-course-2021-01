{
 "cells": [
  {
   "cell_type": "markdown",
   "metadata": {
    "slideshow": {
     "slide_type": "slide"
    }
   },
   "source": [
    "# Problem and Data"
   ]
  },
  {
   "cell_type": "markdown",
   "metadata": {
    "slideshow": {
     "slide_type": "subslide"
    }
   },
   "source": [
    "\n",
    "## Anomaly Detection on Taxi Calls\n",
    "\n",
    "**We are contacted by a Taxi company:**\n",
    "\n",
    "<center><img src=\"assets/sized-yellow-taxi.jpg\" width=\"750px\"/></center>"
   ]
  },
  {
   "cell_type": "markdown",
   "metadata": {
    "slideshow": {
     "slide_type": "subslide"
    }
   },
   "source": [
    "## Anomaly Detection on Taxi Calls\n",
    "\n",
    "**We are contacted by a Taxi company:**\n",
    "\n",
    "* They have historical data about taxi calls in NYC\n",
    "* They are interested in detecting \"abnormal situations\" (so called _anomalies_)\n",
    "\n",
    "**Goals:**\n",
    "\n",
    "* Analyze anomalies (e.g. better size the fleet)\n",
    "* Anticipate anomalies (so we can prepare)\n",
    "\n",
    "**Typically referred to as _anomaly detection_:**\n",
    "\n",
    "* An important industrial problem\n",
    "* Many context and possible applications"
   ]
  },
  {
   "cell_type": "markdown",
   "metadata": {
    "slideshow": {
     "slide_type": "subslide"
    }
   },
   "source": [
    "## Basic Setup\n",
    "\n",
    "**Let us start by setting up the notebook:**"
   ]
  },
  {
   "cell_type": "code",
   "execution_count": 1,
   "metadata": {},
   "outputs": [],
   "source": [
    "%load_ext autoreload\n",
    "%autoreload 2\n",
    "%matplotlib widget"
   ]
  },
  {
   "cell_type": "markdown",
   "metadata": {},
   "source": [
    "Our module contains a pre-built function to load the data:\n",
    "\n",
    "```python\n",
    "def load_series(file_name, data_folder):\n",
    "    ...\n",
    "```\n",
    "\n",
    "* We will use data from the [Numenta Anomaly Benchmark (NAB)](https://github.com/numenta/NAB)\n",
    "* NYC taxi data `nyc_taxi.csv` is in the `data/realKnownCause` folder"
   ]
  },
  {
   "cell_type": "code",
   "execution_count": 5,
   "metadata": {},
   "outputs": [],
   "source": [
    "from util import nab # Import our submodule\n",
    "data_folder = '../data/nab'\n",
    "file_name = 'realKnownCause/nyc_taxi.csv'\n",
    "data, labels, windows = nab.load_series(file_name, data_folder)"
   ]
  },
  {
   "cell_type": "markdown",
   "metadata": {
    "slideshow": {
     "slide_type": "subslide"
    }
   },
   "source": [
    "## A Look at the Data\n",
    "\n",
    "**Let's have a look at all the data we loaded**"
   ]
  },
  {
   "cell_type": "code",
   "execution_count": 6,
   "metadata": {},
   "outputs": [
    {
     "data": {
      "text/html": [
       "<div>\n",
       "<style scoped>\n",
       "    .dataframe tbody tr th:only-of-type {\n",
       "        vertical-align: middle;\n",
       "    }\n",
       "\n",
       "    .dataframe tbody tr th {\n",
       "        vertical-align: top;\n",
       "    }\n",
       "\n",
       "    .dataframe thead th {\n",
       "        text-align: right;\n",
       "    }\n",
       "</style>\n",
       "<table border=\"1\" class=\"dataframe\">\n",
       "  <thead>\n",
       "    <tr style=\"text-align: right;\">\n",
       "      <th></th>\n",
       "      <th>value</th>\n",
       "    </tr>\n",
       "    <tr>\n",
       "      <th>timestamp</th>\n",
       "      <th></th>\n",
       "    </tr>\n",
       "  </thead>\n",
       "  <tbody>\n",
       "    <tr>\n",
       "      <th>2014-07-01 00:00:00</th>\n",
       "      <td>10844</td>\n",
       "    </tr>\n",
       "    <tr>\n",
       "      <th>2014-07-01 00:30:00</th>\n",
       "      <td>8127</td>\n",
       "    </tr>\n",
       "    <tr>\n",
       "      <th>2014-07-01 01:00:00</th>\n",
       "      <td>6210</td>\n",
       "    </tr>\n",
       "    <tr>\n",
       "      <th>2014-07-01 01:30:00</th>\n",
       "      <td>4656</td>\n",
       "    </tr>\n",
       "    <tr>\n",
       "      <th>2014-07-01 02:00:00</th>\n",
       "      <td>3820</td>\n",
       "    </tr>\n",
       "  </tbody>\n",
       "</table>\n",
       "</div>"
      ],
      "text/plain": [
       "                     value\n",
       "timestamp                 \n",
       "2014-07-01 00:00:00  10844\n",
       "2014-07-01 00:30:00   8127\n",
       "2014-07-01 01:00:00   6210\n",
       "2014-07-01 01:30:00   4656\n",
       "2014-07-01 02:00:00   3820"
      ]
     },
     "execution_count": 6,
     "metadata": {},
     "output_type": "execute_result"
    }
   ],
   "source": [
    "data.head()"
   ]
  },
  {
   "cell_type": "markdown",
   "metadata": {},
   "source": [
    "`data` is a pandas `DataFrame` object\n",
    "\n",
    "* It is essentially a _table_, in this case representing a _time series_\n",
    "* There are well defined _column names_ (here \"value\")\n",
    "* There is a well defined row _index_ (here \"timestamp\")\n",
    "* Jupyter displays DataFrame objects as HTML tables"
   ]
  },
  {
   "cell_type": "markdown",
   "metadata": {
    "slideshow": {
     "slide_type": "subslide"
    }
   },
   "source": [
    "## Time Series and Pandas\n",
    "\n",
    "**Our data is a _time series_**\n",
    "\n",
    "I.e. a sequence whose index represents time\n",
    "\n",
    "* Specifically, we have a _univariate_ time series...\n",
    "* ...Since we are tracking only quantity (i.e. one variable)\n",
    "\n",
    "**Times series have one difference w.r.t. classical table datasets**\n",
    "\n",
    "* ...I.e. their row index is _meaningful_\n",
    "* Since it represents the _position_ of the example in the sequence\n",
    "\n",
    "**That said, we do not care about _how_ time is represented**\n",
    "\n",
    "* Hence, time series are stored _just as usual_!\n",
    "* Their peculiarities arise when we start to manipulate them"
   ]
  },
  {
   "cell_type": "markdown",
   "metadata": {
    "slideshow": {
     "slide_type": "subslide"
    }
   },
   "source": [
    "## Time Series and Pandas\n",
    "\n",
    "**In pandas:**\n",
    "\n",
    "* Time series are stored as usual, via `DataFrame` or `Series` objects\n",
    "* ...You just need to pay more attention to the index\n",
    "\n",
    "**It _may_ be convenient using a `datetime` index**\n",
    "\n",
    "* A `datetime` object in python allows to manipulate dates/hours directly\n",
    "  - E.g. get year/month/day/hour/minute...\n",
    "* In pandas they can be used as indices, so that for example:\n",
    "  - Time stamps are easier to read\n",
    "  - We can sort rows by time\n",
    "  - We can represent arbitrarily long gaps between measurements\n",
    "  - ...\n",
    "\n",
    "That said, we still deal with normal `DataFrame` or `Series` objects"
   ]
  },
  {
   "cell_type": "markdown",
   "metadata": {
    "slideshow": {
     "slide_type": "subslide"
    }
   },
   "source": [
    "## A Look at the Data\n",
    "\n",
    "**Let's have a look at all the data we loaded**\n",
    "\n",
    "Our module contains a function to plot NAB series:"
   ]
  },
  {
   "cell_type": "code",
   "execution_count": 7,
   "metadata": {
    "scrolled": false
   },
   "outputs": [
    {
     "data": {
      "application/vnd.jupyter.widget-view+json": {
       "model_id": "39ad38c9bcbb423bb4f967f871acbf38",
       "version_major": 2,
       "version_minor": 0
      },
      "text/plain": [
       "Canvas(toolbar=Toolbar(toolitems=[('Home', 'Reset original view', 'home', 'home'), ('Back', 'Back to previous …"
      ]
     },
     "metadata": {},
     "output_type": "display_data"
    }
   ],
   "source": [
    "nab.plot_series(data)"
   ]
  },
  {
   "cell_type": "markdown",
   "metadata": {},
   "source": [
    "* If are curious, you can look up the [function code in the module](util/nab.py)"
   ]
  },
  {
   "cell_type": "markdown",
   "metadata": {
    "slideshow": {
     "slide_type": "subslide"
    }
   },
   "source": [
    "## A Look at the Data\n",
    "\n",
    "**Let's have a look at all the data we loaded**\n",
    "\n",
    "We can now move to other data structures"
   ]
  },
  {
   "cell_type": "code",
   "execution_count": 9,
   "metadata": {},
   "outputs": [
    {
     "data": {
      "text/plain": [
       "0   2014-11-01 19:00:00\n",
       "1   2014-11-27 15:30:00\n",
       "2   2014-12-25 15:00:00\n",
       "3   2015-01-01 01:00:00\n",
       "4   2015-01-27 00:00:00\n",
       "dtype: datetime64[ns]"
      ]
     },
     "execution_count": 9,
     "metadata": {},
     "output_type": "execute_result"
    }
   ],
   "source": [
    "labels.head()"
   ]
  },
  {
   "cell_type": "markdown",
   "metadata": {},
   "source": [
    "**`labels` is a pandas `Series` object**\n",
    "\n",
    "* Similar to a 1D array\n",
    "* ...But with a well defined row _index_\n",
    "\n",
    "**This series contains the _timestamp of all anomalies_**\n",
    "\n",
    "* They are all hand-labeled"
   ]
  },
  {
   "cell_type": "markdown",
   "metadata": {
    "slideshow": {
     "slide_type": "subslide"
    }
   },
   "source": [
    "## A Look at the Data\n",
    "\n",
    "**Let's have a look at all the data we loaded**\n",
    "\n",
    "Let's plot both the series and the labels:"
   ]
  },
  {
   "cell_type": "code",
   "execution_count": 10,
   "metadata": {
    "scrolled": true
   },
   "outputs": [
    {
     "data": {
      "application/vnd.jupyter.widget-view+json": {
       "model_id": "867bdbdd83144a22b4130efb781ab8e9",
       "version_major": 2,
       "version_minor": 0
      },
      "text/plain": [
       "Canvas(toolbar=Toolbar(toolitems=[('Home', 'Reset original view', 'home', 'home'), ('Back', 'Back to previous …"
      ]
     },
     "metadata": {},
     "output_type": "display_data"
    }
   ],
   "source": [
    "nab.plot_series(data, labels)"
   ]
  },
  {
   "cell_type": "markdown",
   "metadata": {
    "slideshow": {
     "slide_type": "-"
    }
   },
   "source": [
    "* Anomalies occur rarely (which is typical for this kind of problem)"
   ]
  },
  {
   "cell_type": "markdown",
   "metadata": {
    "slideshow": {
     "slide_type": "subslide"
    }
   },
   "source": [
    "## A Look at the Data\n",
    "\n",
    "**Let's have a look at all the data we loaded**\n",
    "\n",
    "Now the \"windows\" data structure:"
   ]
  },
  {
   "cell_type": "code",
   "execution_count": 11,
   "metadata": {
    "scrolled": true
   },
   "outputs": [
    {
     "data": {
      "text/html": [
       "<div>\n",
       "<style scoped>\n",
       "    .dataframe tbody tr th:only-of-type {\n",
       "        vertical-align: middle;\n",
       "    }\n",
       "\n",
       "    .dataframe tbody tr th {\n",
       "        vertical-align: top;\n",
       "    }\n",
       "\n",
       "    .dataframe thead th {\n",
       "        text-align: right;\n",
       "    }\n",
       "</style>\n",
       "<table border=\"1\" class=\"dataframe\">\n",
       "  <thead>\n",
       "    <tr style=\"text-align: right;\">\n",
       "      <th></th>\n",
       "      <th>begin</th>\n",
       "      <th>end</th>\n",
       "    </tr>\n",
       "  </thead>\n",
       "  <tbody>\n",
       "    <tr>\n",
       "      <th>0</th>\n",
       "      <td>2014-10-30 15:30:00</td>\n",
       "      <td>2014-11-03 22:30:00</td>\n",
       "    </tr>\n",
       "    <tr>\n",
       "      <th>1</th>\n",
       "      <td>2014-11-25 12:00:00</td>\n",
       "      <td>2014-11-29 19:00:00</td>\n",
       "    </tr>\n",
       "    <tr>\n",
       "      <th>2</th>\n",
       "      <td>2014-12-23 11:30:00</td>\n",
       "      <td>2014-12-27 18:30:00</td>\n",
       "    </tr>\n",
       "    <tr>\n",
       "      <th>3</th>\n",
       "      <td>2014-12-29 21:30:00</td>\n",
       "      <td>2015-01-03 04:30:00</td>\n",
       "    </tr>\n",
       "    <tr>\n",
       "      <th>4</th>\n",
       "      <td>2015-01-24 20:30:00</td>\n",
       "      <td>2015-01-29 03:30:00</td>\n",
       "    </tr>\n",
       "  </tbody>\n",
       "</table>\n",
       "</div>"
      ],
      "text/plain": [
       "                begin                 end\n",
       "0 2014-10-30 15:30:00 2014-11-03 22:30:00\n",
       "1 2014-11-25 12:00:00 2014-11-29 19:00:00\n",
       "2 2014-12-23 11:30:00 2014-12-27 18:30:00\n",
       "3 2014-12-29 21:30:00 2015-01-03 04:30:00\n",
       "4 2015-01-24 20:30:00 2015-01-29 03:30:00"
      ]
     },
     "execution_count": 11,
     "metadata": {},
     "output_type": "execute_result"
    }
   ],
   "source": [
    "windows.head()"
   ]
  },
  {
   "cell_type": "markdown",
   "metadata": {},
   "source": [
    "**`windows` is a pandas `DataFrame` object**\n",
    "\n",
    "* Contains the start/end of windows containing anomalies\n",
    "* They represent a suitable \"resolution\" for detecting anomalies\n",
    "* Reporting the presence of anomalies at any point of the window...\n",
    "* ...Has some value for the company"
   ]
  },
  {
   "cell_type": "markdown",
   "metadata": {
    "slideshow": {
     "slide_type": "subslide"
    }
   },
   "source": [
    "## A Look at the Data\n",
    "\n",
    "**Let's have a look at all the data we loaded**\n",
    "\n",
    "Let's plot the series, the labels, and the windows all together:"
   ]
  },
  {
   "cell_type": "code",
   "execution_count": 12,
   "metadata": {
    "scrolled": true
   },
   "outputs": [
    {
     "data": {
      "application/vnd.jupyter.widget-view+json": {
       "model_id": "b9fad447d64948c795f55a77b50fb6b7",
       "version_major": 2,
       "version_minor": 0
      },
      "text/plain": [
       "Canvas(toolbar=Toolbar(toolitems=[('Home', 'Reset original view', 'home', 'home'), ('Back', 'Back to previous …"
      ]
     },
     "metadata": {},
     "output_type": "display_data"
    }
   ],
   "source": [
    "nab.plot_series(data, labels, windows)"
   ]
  },
  {
   "cell_type": "markdown",
   "metadata": {},
   "source": [
    "* Detections that occur too early/late count as misses "
   ]
  }
 ],
 "metadata": {
  "celltoolbar": "Slideshow",
  "kernelspec": {
   "display_name": "Python 3",
   "language": "python",
   "name": "python3"
  },
  "language_info": {
   "codemirror_mode": {
    "name": "ipython",
    "version": 3
   },
   "file_extension": ".py",
   "mimetype": "text/x-python",
   "name": "python",
   "nbconvert_exporter": "python",
   "pygments_lexer": "ipython3",
   "version": "3.8.10"
  },
  "rise": {
   "center": false,
   "transition": "fade"
  },
  "widgets": {
   "application/vnd.jupyter.widget-state+json": {
    "state": {},
    "version_major": 2,
    "version_minor": 0
   }
  }
 },
 "nbformat": 4,
 "nbformat_minor": 4
}
